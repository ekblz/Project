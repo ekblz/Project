{
 "cells": [
  {
   "cell_type": "markdown",
   "metadata": {},
   "source": [
    "- Создайте класс Point(x, y) x, y - координаты точки на плоскости.\n",
    "- Реализуйте два метода a.distanceTo(b) - евкливодов расстояние между $a$ и $b$\n",
    "- Переопределите __str__ так чтобы при печати экземпляра выводилось (x, y) - то есть координаты точки"
   ]
  },
  {
   "cell_type": "code",
   "execution_count": 61,
   "metadata": {},
   "outputs": [
    {
     "name": "stdout",
     "output_type": "stream",
     "text": [
      "7.615773105863909\n"
     ]
    }
   ],
   "source": [
    "class Point:\n",
    "    def __init__(self, x, y):\n",
    "        self.x = x\n",
    "        self.y = y\n",
    "    \n",
    "    def distanceTo(self, newPoint):\n",
    "        return ((newPoint.x - self.x) ** 2 + (newPoint.y - self.y) ** 2) ** (1/2)\n",
    "    \n",
    "    def __str__(self):\n",
    "        return \"(\" + str(self.x) + \",\" + str(self.y) +  \")\"\n",
    "    \n",
    "    \n",
    "empty1 = Point(2,3) # введите координаты точки a\n",
    "empty2 = Point(5,10) # введите координаты точки b\n",
    "print(empty1.distanceTo(empty2))\n"
   ]
  },
  {
   "cell_type": "code",
   "execution_count": 62,
   "metadata": {},
   "outputs": [
    {
     "name": "stdout",
     "output_type": "stream",
     "text": [
      "(2,3)\n",
      "(5,10)\n"
     ]
    }
   ],
   "source": [
    "print(empty1)\n",
    "print(empty2)"
   ]
  },
  {
   "cell_type": "markdown",
   "metadata": {},
   "source": [
    "- После того как Вы создадите класс запустите следующий код"
   ]
  },
  {
   "cell_type": "code",
   "execution_count": 63,
   "metadata": {},
   "outputs": [],
   "source": [
    "import random\n",
    "random.seed(42)\n",
    "points = list()\n",
    "for i in range(1000):\n",
    "    x = random.randint(1, 100)\n",
    "    y = random.randint(1, 100)\n",
    "    points.append(Point(x, y))"
   ]
  },
  {
   "cell_type": "markdown",
   "metadata": {},
   "source": [
    "- Напишите метод, который определит у какой из заданых точек больше всего соседей в радиусе 5.\n",
    "- Если таких точек несколько, то тогда выведите точку с наименьше суммой координат, если таких точек несколько, то выведите точку с наименьше абсциссой."
   ]
  },
  {
   "cell_type": "code",
   "execution_count": 64,
   "metadata": {},
   "outputs": [],
   "source": [
    "def rad5 (mass):\n",
    "    count = 0\n",
    "    max_count = 0\n",
    "    point = Point(0,0)\n",
    "    for i in range(len(mass)):\n",
    "        count = 0\n",
    "        for j in range(len(mass)):\n",
    "            if i != j:\n",
    "                if mass[i].distanceTo(mass[j]) <= 5:\n",
    "                    count += 1\n",
    "        if count > max_count:\n",
    "            max_count = count\n",
    "            point = mass[i]\n",
    "        elif count == max_count:\n",
    "            point = find(point, mass[i])\n",
    "    print(point)"
   ]
  },
  {
   "cell_type": "code",
   "execution_count": 65,
   "metadata": {},
   "outputs": [],
   "source": [
    "def find (x, y):\n",
    "    if (x.x + x.y) < (y.x + y.y):\n",
    "        return x\n",
    "    elif (x.x + x.y) > (y.x + y.y):\n",
    "        return y\n",
    "    elif (x.x + x.y) == (y.x + y.y):\n",
    "        if x.x < y.x: \n",
    "            return x\n",
    "        elif x.x > y.x: \n",
    "            return y"
   ]
  },
  {
   "cell_type": "code",
   "execution_count": 66,
   "metadata": {},
   "outputs": [
    {
     "name": "stdout",
     "output_type": "stream",
     "text": [
      "(12,61)\n"
     ]
    }
   ],
   "source": [
    "rad5(points)"
   ]
  }
 ],
 "metadata": {
  "kernelspec": {
   "display_name": "Python 3",
   "language": "python",
   "name": "python3"
  },
  "language_info": {
   "codemirror_mode": {
    "name": "ipython",
    "version": 3
   },
   "file_extension": ".py",
   "mimetype": "text/x-python",
   "name": "python",
   "nbconvert_exporter": "python",
   "pygments_lexer": "ipython3",
   "version": "3.8.8"
  }
 },
 "nbformat": 4,
 "nbformat_minor": 4
}
