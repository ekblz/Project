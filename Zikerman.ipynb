{
 "cells": [
  {
   "cell_type": "code",
   "execution_count": 1,
   "id": "7d2c7dcc",
   "metadata": {},
   "outputs": [
    {
     "name": "stdout",
     "output_type": "stream",
     "text": [
      "Сумма = 2 Вероятности равны\n",
      "Сумма = 3 Вероятности равны\n",
      "Сумма = 4 Вероятности равны\n",
      "Сумма = 5 Вероятности равны\n",
      "Сумма = 6 Вероятности равны\n",
      "Сумма = 7 Вероятности равны\n",
      "Сумма = 8 Вероятности равны\n",
      "Сумма = 9 Вероятности равны\n",
      "Сумма = 10 Вероятности равны\n",
      "Сумма = 11 Вероятности равны\n",
      "Сумма = 12 Вероятности равны\n"
     ]
    }
   ],
   "source": [
    "array1 = [1,3,4,5,6,8]\n",
    "array2 = [1,2,2,3,3,4]\n",
    "array0 = [0,0,0,0,0,0,0,0,0,0,0]\n",
    "mas = [2,3,4,5,6,7,8,9,10,11,12]\n",
    "for i in array1:\n",
    "    for j in array2:\n",
    "        sum = i + j\n",
    "        for a in range(len(mas)):\n",
    "            if sum == mas[a]:\n",
    "                array0[a] += 1\n",
    "array3 = [1,2,3,4,5,6]\n",
    "array4 = [1,2,3,4,5,6]\n",
    "array00 = [0,0,0,0,0,0,0,0,0,0,0]\n",
    "for b in array3:\n",
    "    for c in array4:\n",
    "        sum = b + c\n",
    "        for d in range(len(mas)):\n",
    "            if sum == mas[d]:\n",
    "                array00[d] += 1\n",
    "sum = 2\n",
    "for elem in range(len(array0)):\n",
    "    for elements in range(len(array00)):\n",
    "        if elem == elements:\n",
    "            if array0[elem] > array00[elements]:\n",
    "                print('Сумма =', sum ,'Вероятность больше у костей Зикермана')\n",
    "                sum += 1\n",
    "            elif array0[elem] < array00[elements]:\n",
    "                print('Сумма =', sum ,'Вероятность больше у костей Зикермана')\n",
    "                sum += 1\n",
    "            elif array0[elem] == array00[elements]:\n",
    "                print('Сумма =', sum , 'Вероятности равны')\n",
    "                sum += 1"
   ]
  },
  {
   "cell_type": "code",
   "execution_count": 2,
   "id": "488eb643",
   "metadata": {},
   "outputs": [
    {
     "name": "stdout",
     "output_type": "stream",
     "text": [
      "0.374\n"
     ]
    }
   ],
   "source": [
    "import random\n",
    "win = 0\n",
    "n = 1000\n",
    "for i in range(n):\n",
    "    a = random.randint(1,6)\n",
    "    b = random.randint(1,6)\n",
    "    sum = a + b\n",
    "    if sum == 7 or sum == 11:\n",
    "        win = win + 1\n",
    "        continue\n",
    "    if sum == 2 or sum == 3 or sum == 12:\n",
    "        continue\n",
    "    while True:\n",
    "        a = random.randint(1,6)\n",
    "        b = random.randint(1,6)\n",
    "        sum = a + b\n",
    "        if sum == 7:\n",
    "            win = win + 1 \n",
    "            break\n",
    "        if sum == 4 or sum == 5 or sum == 6 or sum == 8 or sum == 9 or sum == 12:\n",
    "            break\n",
    "print(win/n)"
   ]
  },
  {
   "cell_type": "code",
   "execution_count": null,
   "id": "c34bf794",
   "metadata": {},
   "outputs": [],
   "source": []
  }
 ],
 "metadata": {
  "kernelspec": {
   "display_name": "Python 3",
   "language": "python",
   "name": "python3"
  },
  "language_info": {
   "codemirror_mode": {
    "name": "ipython",
    "version": 3
   },
   "file_extension": ".py",
   "mimetype": "text/x-python",
   "name": "python",
   "nbconvert_exporter": "python",
   "pygments_lexer": "ipython3",
   "version": "3.8.8"
  }
 },
 "nbformat": 4,
 "nbformat_minor": 5
}
